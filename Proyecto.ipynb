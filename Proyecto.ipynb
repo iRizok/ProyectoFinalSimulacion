{
 "cells": [
  {
   "cell_type": "markdown",
   "metadata": {},
   "source": [
    "# Proyecto final de simulación\n",
    "\n",
    "---"
   ]
  },
  {
   "cell_type": "markdown",
   "metadata": {},
   "source": [
    "## Sistema de autolavado\n",
    "\n",
    "Se tiene un autolavado con muchas deficiencias en sus filas de servicio:\n",
    "\n",
    "+ El sistema presenta una sola entrada y salida\n",
    "+ Tiene unicamente dos estaciones de lavado\n",
    "+ Cada estacion tiene un encargado\n",
    "+ Consta de un solo despachador para las dos estaciones\n",
    "+ Cuando termina el servicio de lavado los vehiculos se retiran"
   ]
  },
  {
   "cell_type": "markdown",
   "metadata": {},
   "source": [
    "## Formulación del problema\n",
    "\n",
    "El autolavado se llega a saturar rapidamente porque solo hay un encargado(Fila) en el sistema."
   ]
  },
  {
   "cell_type": "markdown",
   "metadata": {},
   "source": [
    "## Objetivos y plan\n",
    "\n",
    "El modelo de nuestro sistema de colas tiene los siguientes elementos:\n",
    "\n",
    "+ Entidad: La entidad principal esta representada por automoviles\n",
    "+ Entrada: El lugar donde se acumulan las colas\n",
    "+ Salida\n",
    "+ Cola de espera\n",
    "+ Cola de llegada"
   ]
  },
  {
   "cell_type": "markdown",
   "metadata": {},
   "source": [
    "## Modelo\n",
    "\n",
    "El modelo de nuestro sistema de colas tiene los siguientes elementos:\n",
    "\n",
    "+ Entidad: La entidad principal esta representada por automoviles\n",
    "+ Entrada: El lugar donde se acumulan las colas\n",
    "+ Salida\n",
    "+ Cola de espera\n",
    "+ Cola de llegada"
   ]
  },
  {
   "cell_type": "markdown",
   "metadata": {},
   "source": [
    "## Diagrama\n",
    "\n",
    "![alt text for screen readers](Flowcharts.png \"Diagrama del modelo\")"
   ]
  },
  {
   "cell_type": "markdown",
   "metadata": {},
   "source": [
    "## Resultadoos de simulación\n",
    "\n",
    "| Nombre | Total Salidas | Tiempo En sistema promedio (min) | Tiempo en Operación promedio (min) |\n",
    "| :---: | :---: | :---: | :---: |\n",
    "| Auto cliente | 72.00 | 7.17 | 6.92 |\n"
   ]
  },
  {
   "cell_type": "markdown",
   "metadata": {},
   "source": []
  },
  {
   "cell_type": "markdown",
   "metadata": {},
   "source": [
    "### Integrantes\n",
    "\n",
    "+ Jorge de Jesús Cedillo Gutiérrez\n",
    "+ Juan Carlos Medina Rodriguez\n",
    "+ Ricardo Gabriel Rodríguez Gonzalez\n",
    "+ Ernesto Burciaga Aguirre"
   ]
  }
 ],
 "metadata": {
  "kernelspec": {
   "display_name": "Python 3.10.8 64-bit",
   "language": "python",
   "name": "python3"
  },
  "language_info": {
   "name": "python",
   "version": "3.10.8"
  },
  "orig_nbformat": 4,
  "vscode": {
   "interpreter": {
    "hash": "767d51c1340bd893661ea55ea3124f6de3c7a262a8b4abca0554b478b1e2ff90"
   }
  }
 },
 "nbformat": 4,
 "nbformat_minor": 2
}
