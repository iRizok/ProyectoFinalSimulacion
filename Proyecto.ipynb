{
 "cells": [
  {
   "cell_type": "markdown",
   "metadata": {},
   "source": [
    "# Proyecto final de simulación\n",
    "\n",
    "---"
   ]
  },
  {
   "cell_type": "markdown",
   "metadata": {},
   "source": [
    "## Sistema de autolavado\n",
    "\n",
    "Se tiene un autolavado con muchas deficiencias en sus filas de servicio:\n",
    "\n",
    "+ El sistema presenta una sola entrada y salida\n",
    "+ Tiene unicamente dos estaciones de lavado\n",
    "+ Cada estacion tiene un encargado\n",
    "+ Consta de un solo despachador para las dos estaciones\n",
    "+ Cuando termina el servicio de lavado los vehiculos se retiran"
   ]
  },
  {
   "cell_type": "markdown",
   "metadata": {},
   "source": [
    "## Formulación del problema\n",
    "\n",
    "El autolavado se llega a saturar rapidamente porque solo hay un encargado(Fila) en el sistema."
   ]
  },
  {
   "cell_type": "markdown",
   "metadata": {},
   "source": [
    "## Objetivos y plan\n",
    "\n",
    "El modelo de nuestro sistema de colas tiene los siguientes elementos:\n",
    "\n",
    "+ Entidad: La entidad principal esta representada por automoviles\n",
    "+ Entrada: El lugar donde se acumulan las colas\n",
    "+ Salida\n",
    "+ Cola de espera\n",
    "+ Cola de llegada"
   ]
  },
  {
   "cell_type": "markdown",
   "metadata": {},
   "source": [
    "## Modelo\n",
    "\n",
    "El modelo de nuestro sistema de colas tiene los siguientes elementos:\n",
    "\n",
    "+ Entidad: La entidad principal esta representada por automoviles\n",
    "+ Entrada: El lugar donde se acumulan las colas\n",
    "+ Salida\n",
    "+ Cola de espera\n",
    "+ Cola de llegada"
   ]
  },
  {
   "cell_type": "markdown",
   "metadata": {},
   "source": [
    "## Diagrama\n",
    "\n",
    "![alt text for screen readers](Flowcharts.png \"Diagrama del modelo\")"
   ]
  },
  {
   "cell_type": "markdown",
   "metadata": {},
   "source": [
    "## Resultados de simulación\n",
    "\n",
    "| Nombre | Total Salidas | Tiempo En sistema promedio (min) | Tiempo en Operación promedio (min) |\n",
    "| :---: | :---: | :---: | :---: |\n",
    "| Auto cliente | 72.00 | 7.17 | 6.92 |\n"
   ]
  },
  {
   "cell_type": "markdown",
   "metadata": {},
   "source": [
    "## Preguntas\n",
    "\n",
    "**¿Qué pasaría si se aumentara la frecuencia de arribo de los clientes al sistema?**\n",
    "En este caso, aumentamos la frecuencia de arribo a 20 y los resultados fueron como los esperábamos, como se aumenta el tiempo de arribo de cada cliente, en las 8 horas de jornada laboral que establecimos aparecieron mucho menos clientes que entraron al sistema y por ende los dispensadores pasaron mucho más tiempo vacío, ya que, como se aumento la frecuencia de arribo, se bajó la demanda del servicio.\n",
    "\n",
    "**¿Qué pasaría si se reduce considerablemente la frecuencia del tiempo de arribo de cada cliente al sistema?**\n",
    "Como sabemos que aumentando la frecuencia del tiempo de arribo de cada cliente al sistema se reduce considerablemente la demanda de los dispensadores y que, por ende, quedan vacíos la gran parte del tiempo, si lo reducimos, creemos que sucederá lo opuesto a lo planteado anteriormente, es decir, se aumentará la cantidad de clientes que entran al sistema y los dispensadores permanecerán ocupados una mayor parte de tiempo.\n"
   ]
  },
  {
   "cell_type": "markdown",
   "metadata": {},
   "source": [
    "\n",
    "## Simulación del modelo con una frecuencia del tiempo de arribo en 5\n",
    "\n",
    "| Nombre | Total Salidas | Tiempo En sistema promedio (min) | Tiempo en Operación promedio (min) |\n",
    "| :---: | :---: | :---: | :---: |\n",
    "| Auto cliente | 168.00 | 32.83 | 7.14 |\n",
    "\n",
    " El tiempo que el cliente estuvo esperando en la cola para ser atendido fue muchísimo mayor que en las ocasiones anteriores (con un tiempo estimado de permanencia en el sistema de poco más de media hora), esto debido a la alta demanda de autos que arribaban al sistema y por el tiempo de espera de servicio de cada dispensador con cada cliente.\n",
    "\n",
    " Dado lo dicho anteriormente, una solución que podríamos implementar para que el cliente, sería el de reducir un poco el tiempo de espera de servicio y de igual forma, reducir el tiempo de permanencia en la cola de llegada. Algo así como se puede ver a continuación:\n",
    "\n",
    "**Los resultados son los siguietes:**\n",
    "\n",
    "| Nombre | Total Salidas | Tiempo En sistema promedio (min) | Tiempo en Operación promedio (min) |\n",
    "| :---: | :---: | :---: | :---: |\n",
    "| Auto cliente | 196.00 | 6.48 | 4.95 |\n",
    "\n",
    "Como se redujo considerablemente el tiempo de espera de servicio y el tiempo de permanencia en la cola de llegada, el número de clientes que pasaron por el sistema durante la jornada laboral, aumentó considerablemente y también se redujo considerablemente el tiempo promedio que cada cliente estuvo en el sistema y a continuación en la siguiente gráfica se puede observar con mayor detalle el comportamiento de los clientes que ingresaban al sistema:\n",
    "\n",
    "Como se puede observar en la gráfica, el porcentaje de tiempo en el que los clientes estuvieron esperando en la fila se redujo considerablemente y también el porcentaje de tiempo en el que los clientes estuvieron operando aumentó de manera significativa.\n",
    "\n",
    "En la siguiente gráfica podemos observar como el tiempo en el que estuvieron en operación las colas de espera se redujo de forma considerable pero así mismo, aumentó bastante el tiempo que estuvieron inactivas, esto quiere decir que como el tiempo de servicio fue disminuido de forma considerable, hubo ocasiones en las que no entraban clientes al sistema y que, por ende, tanto los dispensadores como las colas de espera se encontraban inactivas.\n",
    "\n",
    "Siendo realistas, es muy difícil que en la vida real, se reduzca de forma tan drástica el tiempo de espera de servicio y el tiempo de permanencia del cliente en la cola de llegada, por lo que, a fines práctico, hemos decidido hacer otro modelo similar al modelo anterior con la única diferencia en la frecuencia del tiempo de arribo de cada cliente (que nos basaremos en la última pregunta que nos hicimos) y que se le agregará otro dispensador, para ver si esto influye de manera positiva en el sistema y que reduzca el tiempo en el que los clientes se quedan en la fila esperando a ser atendidos. Todo esto en el contexto de que es una nueva sucursal de nuestro auto lavado."
   ]
  },
  {
   "cell_type": "markdown",
   "metadata": {},
   "source": [
    "## Versión temprana de la alternativa del modelo:\n",
    "\n",
    "**Arribos en el sistema**\n",
    "\n",
    "![alt text for screen readers](arribos_alt.jpeg \"Inicialización de los arribos de los clientes en el sistema\")\n",
    "\n",
    "**Procesos en el sistema**\n",
    "\n",
    "![alt text for screen readers](procesosAlt.jpeg \"Creación de los procesos del sistema\")\n",
    "\n",
    "**Resultados de la alternativa del modelo planteado**\n",
    "\n",
    "| Nombre | Total Salidas | Tiempo En sistema promedio (min) | Tiempo en Operación promedio (min) |\n",
    "| :---: | :---: | :---: | :---: |\n",
    "| Auto cliente | 186.00 | 7.92 | 7.36 |\n",
    "\n",
    "Como se puede observar en la tabla de datos mostrada anteriormente, el hecho de que haya otro dispensador si favoreció en gran medida al sistema, no sólo porque la cantidad de clientes aumentó en alrededor del 11% sino que además el tiempo que duraba cada cliente en el sistema se redujo drásticamente, de pasar de estar poco más de media hora en total, pasó a tan solo 8 minutos en total, lo cual quiere decir que si se aumenta la cantidad de dispensadores en una época o zona en la que se satura el sistema beneficia no sólo al propietario sino también a los tiempos de los clientes y así evitar las largas filas de espera.\n",
    "A continuación, algunos gráficos que ayudan a enriquecer nuestra conclusión sobre el modelo:\n",
    "\n",
    "**Porcentaje de clientes en operación**\n",
    "\n",
    "![alt text for screen readers](clientsOp.jpeg \"Gráfica de pastel de los clientes en operación\")\n",
    "\n",
    "Como se puede apreciar, se redujo el a 0 el porcentaje de clientes que estuvieron en un estado de espera en el sistema.\n",
    "\n",
    "**Porcentaje de uso de cada cola de espera durante la jornada de 8 horas**\n",
    "\n",
    "![alt text for screen readers](porcentUso_alt.jpeg \"Gráficas de pastel de los porcentajes de uso de cada cola de espera\")\n",
    "\n",
    "En las gráficas se puede apreciar como los clientes tuvieron una tendencia a usar más el dispensador de la izquierda (cola de espera 1), luego el dispensador del centro (cola de espera 2) y por último, el de la derecha (cola de espera 3), haciendo que el porcentaje de tiempo que estuvo inactiva la cola de espera 3 fuera mayor que las demás. También cabe añadir que a contrario del modelo anterior, las colas estuvieron inactivas una mayor cantidad de tiempo, esto debido a la fluidez con la que se atendían a cada cliente que llegaba al sistema.\n",
    "\n",
    "**Cantidad de clientes que llegaban por hora**\n",
    "\n",
    "![alt text for screen readers](clientsphr.jpeg \"Histograma de la cantidad de clientes que llegaban por hora\")\n",
    "\n",
    "\n"
   ]
  },
  {
   "cell_type": "markdown",
   "metadata": {},
   "source": [
    "### Integrantes\n",
    "\n",
    "+ Jorge de Jesús Cedillo Gutiérrez\n",
    "+ Juan Carlos Medina Rodriguez\n",
    "+ Ricardo Gabriel Rodríguez Gonzalez\n",
    "+ Ernesto Burciaga Aguirre"
   ]
  }
 ],
 "metadata": {
  "kernelspec": {
   "display_name": "Python 3.11.0 64-bit",
   "language": "python",
   "name": "python3"
  },
  "language_info": {
   "name": "python",
   "version": "3.11.0"
  },
  "orig_nbformat": 4,
  "vscode": {
   "interpreter": {
    "hash": "ead1b95f633dc9c51826328e1846203f51a198c6fb5f2884a80417ba131d4e82"
   }
  }
 },
 "nbformat": 4,
 "nbformat_minor": 2
}
