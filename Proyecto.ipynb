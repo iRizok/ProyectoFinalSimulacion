{
 "cells": [
  {
   "cell_type": "markdown",
   "metadata": {},
   "source": [
    "# Proyecto final de simulación"
   ]
  },
  {
   "cell_type": "markdown",
   "metadata": {},
   "source": [
    "## Sistema de autolavado\n",
    "\n",
    "Se tiene un autolavado con muchas deficiencias en sus filas de servicio:\n",
    "\n",
    "+ El sistema presenta una sola entrada y salida\n",
    "+ Tiene unicamente dos estaciones de lavado\n",
    "+ Cada estacion tiene un encargado\n",
    "+ Consta de un solo despachador para las dos estaciones\n",
    "+ Cuando termina el servicio de lavado los vehiculos se retiran"
   ]
  },
  {
   "cell_type": "markdown",
   "metadata": {},
   "source": [
    "## Formulación del problema\n",
    "\n",
    "El autolavado se llega a saturar rapidamente porque solo hay un encargado(Fila) en el sistema."
   ]
  },
  {
   "cell_type": "markdown",
   "metadata": {},
   "source": [
    "## Objetivos y plan\n",
    "\n",
    "El modelo de nuestro sistema de colas tiene los siguientes elementos:\n",
    "\n",
    "+ Entidad: La entidad principal esta representada por automoviles\n",
    "+ Entrada: El lugar donde se acumulan las colas\n",
    "+ Salida\n",
    "+ Cola de espera\n",
    "+ Cola de llegada"
   ]
  },
  {
   "cell_type": "markdown",
   "metadata": {},
   "source": [
    "## Modelo\n",
    "\n",
    "El modelo de nuestro sistema de colas tiene los siguientes elementos:\n",
    "\n",
    "+ Entidad: La entidad principal esta representada por automoviles\n",
    "+ Entrada: El lugar donde se acumulan las colas\n",
    "+ Salida\n",
    "+ Cola de espera\n",
    "+ Cola de llegada"
   ]
  },
  {
   "cell_type": "markdown",
   "metadata": {},
   "source": [
    "## Diagrama"
   ]
  },
  {
   "cell_type": "markdown",
   "metadata": {},
   "source": [
    "### Integrantes\n",
    "\n",
    "Jorge de Jesús Cedillo Gutiérrez\n",
    "Juan Carlos Medina Rodriguez\n",
    "Ricardo Gabriel Rodríguez Gonzalez\n",
    "Ernesto Burciaga Aguirre"
   ]
  }
 ],
 "metadata": {
  "language_info": {
   "name": "python"
  },
  "orig_nbformat": 4
 },
 "nbformat": 4,
 "nbformat_minor": 2
}
